{
 "cells": [
  {
   "metadata": {
    "ExecuteTime": {
     "end_time": "2025-07-15T17:25:49.543040Z",
     "start_time": "2025-07-15T17:25:49.525878Z"
    }
   },
   "cell_type": "code",
   "source": [
    "# %pip install numpy pandas pillow scikit-learn kagglehub matplotlib ipython\n",
    "# %pip install torch torchvision torchaudio --index-url https://download.pytorch.org/whl/cu121\n",
    "# !conda install -c conda-forge background-generator -y\n"
   ],
   "id": "4e24df163870907",
   "outputs": [],
   "execution_count": 110
  },
  {
   "metadata": {
    "ExecuteTime": {
     "end_time": "2025-07-15T17:25:49.589639Z",
     "start_time": "2025-07-15T17:25:49.575928Z"
    }
   },
   "cell_type": "code",
   "source": [
    "import os\n",
    "import pandas as pd\n",
    "import numpy as np\n",
    "import math\n",
    "import time\n",
    "import torch\n",
    "import torch.nn as nn\n",
    "import torch.nn.functional as F\n",
    "from torch.amp import autocast, GradScaler\n",
    "from torch.utils.data import Dataset, DataLoader, Subset, TensorDataset\n",
    "from sklearn.model_selection import train_test_split\n",
    "import matplotlib.pyplot as plt\n",
    "from PIL import Image\n",
    "from IPython.display import display"
   ],
   "id": "a00a57b8e9168f4",
   "outputs": [],
   "execution_count": 111
  },
  {
   "metadata": {
    "ExecuteTime": {
     "end_time": "2025-07-15T17:25:49.666711Z",
     "start_time": "2025-07-15T17:25:49.653121Z"
    }
   },
   "cell_type": "code",
   "source": [
    "if torch.cuda.is_available():\n",
    "    device = torch.device(\"cuda\")\n",
    "    print(\"CUDA version:\", torch.version.cuda)\n",
    "    print(\"Device name:\", device)\n",
    "else:\n",
    "    device = torch.device(\"cpu\")\n",
    "    print(\"CUDA is not available\")\n",
    "    print(\"Device name:\", device)\n"
   ],
   "id": "c624fc57492587b5",
   "outputs": [
    {
     "name": "stdout",
     "output_type": "stream",
     "text": [
      "CUDA version: 12.1\n",
      "Device name: cuda\n"
     ]
    }
   ],
   "execution_count": 112
  },
  {
   "metadata": {
    "ExecuteTime": {
     "end_time": "2025-07-15T17:25:49.729365Z",
     "start_time": "2025-07-15T17:25:49.715782Z"
    }
   },
   "cell_type": "code",
   "source": [
    "class Display:\n",
    "    @staticmethod\n",
    "    def image_Display(image):\n",
    "        if torch.is_tensor(image):\n",
    "            image = image.detach().cpu().numpy()\n",
    "\n",
    "        if image.ndim == 1:\n",
    "            image = image.reshape(28, 28)\n",
    "\n",
    "        image = image.astype('uint8')  # ensure proper display format\n",
    "\n",
    "        display(Image.fromarray(image, mode='L'))\n"
   ],
   "id": "eb5c6c2e1bc9ea75",
   "outputs": [],
   "execution_count": 113
  },
  {
   "metadata": {
    "ExecuteTime": {
     "end_time": "2025-07-15T17:25:49.790143Z",
     "start_time": "2025-07-15T17:25:49.776419Z"
    }
   },
   "cell_type": "code",
   "source": [
    "# def convert_merged_csv_to_pt(train_csv_path, test_csv_path, pt_path):\n",
    "#     dtype_map = {'label': 'int64'} | {str(i): 'uint8' for i in range(1, 785)}\n",
    "#\n",
    "#     df_train = pd.read_csv(train_csv_path, dtype=dtype_map, low_memory=False)\n",
    "#     df_test = pd.read_csv(test_csv_path, dtype=dtype_map, low_memory=False)\n",
    "#\n",
    "#     df = pd.concat([df_train, df_test], ignore_index=True).sample(frac=1, random_state=42)\n",
    "#\n",
    "#     pixel_array = df.drop(columns='label').to_numpy(dtype='float32', copy=True)\n",
    "#     label_array = df['label'].to_numpy(dtype='int64', copy=True)\n",
    "#\n",
    "#     pixels = torch.from_numpy(pixel_array)\n",
    "#     labels = torch.from_numpy(label_array)\n",
    "#\n",
    "#     torch.save((pixels, labels), pt_path)\n",
    "#     print(f\"✅ Saved: {pt_path}\")\n",
    "#\n",
    "# convert_merged_csv_to_pt(\"Dataset/mnist_train.csv\", \"Dataset/mnist_test.csv\", \"Dataset/mnist.pt\")"
   ],
   "id": "9340c15e2e077a31",
   "outputs": [],
   "execution_count": 114
  },
  {
   "metadata": {
    "ExecuteTime": {
     "end_time": "2025-07-15T17:25:49.852094Z",
     "start_time": "2025-07-15T17:25:49.838786Z"
    }
   },
   "cell_type": "code",
   "source": [
    "class Dataset(Dataset):\n",
    "    def __init__(self, pt_path):\n",
    "        self.pixels, self.labels = torch.load(pt_path, weights_only=True)\n",
    "\n",
    "    def __getitem__(self, index):\n",
    "        return self.pixels[index], self.labels[index]\n",
    "\n",
    "    def __len__(self):\n",
    "        return self.labels.size(0)"
   ],
   "id": "60a38375d9a65ce3",
   "outputs": [],
   "execution_count": 115
  },
  {
   "metadata": {
    "ExecuteTime": {
     "end_time": "2025-07-15T17:25:49.913823Z",
     "start_time": "2025-07-15T17:25:49.901026Z"
    }
   },
   "cell_type": "code",
   "source": [
    "# def benchmark_workers(pt_path=\"Dataset/mnist.pt\", max_workers=12, batch_size=512):\n",
    "#     dataset = Dataset(pt_path)\n",
    "#     indices = np.arange(len(dataset))\n",
    "#     train_idx, _ = train_test_split(indices, test_size=0.2, shuffle=True)\n",
    "#     train_set = Subset(dataset, train_idx)\n",
    "#\n",
    "#\n",
    "#     for nw in range(max_workers + 1):\n",
    "#         loader = DataLoader(train_set, batch_size=batch_size, shuffle=True,\n",
    "#                                              num_workers=nw, pin_memory=True,\n",
    "#                                              persistent_workers=(nw > 0))\n",
    "#         torch.cuda.synchronize() if torch.cuda.is_available() else None\n",
    "#         t0 = time.perf_counter()\n",
    "#\n",
    "#         for x, y in loader:\n",
    "#             pass  # simulate one epoch\n",
    "#\n",
    "#         torch.cuda.synchronize() if torch.cuda.is_available() else None\n",
    "#         t1 = time.perf_counter()\n",
    "#         print(f\"num_workers={nw:<2} | time: {t1 - t0:.3f} sec\")\n",
    "#\n",
    "# benchmark_workers()"
   ],
   "id": "db6bec0f3c180323",
   "outputs": [],
   "execution_count": 116
  },
  {
   "metadata": {
    "ExecuteTime": {
     "end_time": "2025-07-15T17:25:49.990921Z",
     "start_time": "2025-07-15T17:25:49.977268Z"
    }
   },
   "cell_type": "code",
   "source": [
    "class Dataloaders:\n",
    "    def __init__(self, dataset_cls):\n",
    "        self.dataset_cls = dataset_cls\n",
    "\n",
    "    def get(self, pt_path, batch_size=None, test_size=0.09, num_workers=0):\n",
    "        dataset = self.dataset_cls(pt_path)\n",
    "\n",
    "        indices = np.arange(len(dataset))\n",
    "        train_idx, test_idx = train_test_split(indices, test_size=test_size, shuffle=True)\n",
    "\n",
    "        train_set = Subset(dataset, train_idx)\n",
    "        test_set = Subset(dataset, test_idx)\n",
    "\n",
    "        effective_batch_size = len(train_set) if batch_size is None else batch_size\n",
    "\n",
    "        train_loader = DataLoader(train_set, batch_size=effective_batch_size, shuffle=True,\n",
    "                                  num_workers=num_workers, pin_memory=True,\n",
    "                                  persistent_workers=(num_workers > 0))\n",
    "\n",
    "        test_loader = DataLoader(test_set, batch_size=len(test_set) if batch_size is None else batch_size,\n",
    "                                 shuffle=False, num_workers=num_workers, pin_memory=True,\n",
    "                                 persistent_workers=(num_workers > 0))\n",
    "\n",
    "        return train_loader, test_loader\n"
   ],
   "id": "3dd6cf5f6453534d",
   "outputs": [],
   "execution_count": 117
  },
  {
   "metadata": {
    "ExecuteTime": {
     "end_time": "2025-07-15T17:25:51.647323Z",
     "start_time": "2025-07-15T17:25:50.056080Z"
    }
   },
   "cell_type": "code",
   "source": [
    "loaders = Dataloaders(Dataset)\n",
    "\n",
    "train_loader, test_loader = loaders.get(\"Dataset/mnist.pt\", batch_size=None)\n",
    "\n",
    "for x, y in train_loader:\n",
    "    x = x.to(device, non_blocking=True)\n",
    "    y = y.to(device, non_blocking=True)\n",
    "\n",
    "    Display.image_Display(x[1])\n",
    "    print(\"Label:\", y[1].item())\n",
    "\n",
    "    print(x.shape, y.shape)\n",
    "    break\n"
   ],
   "id": "11c2a8a8b2b959e8",
   "outputs": [
    {
     "data": {
      "text/plain": [
       "<PIL.Image.Image image mode=L size=28x28>"
      ],
      "image/png": "[encoded data removed]",
      "image/jpeg": "[encoded data removed]"
     },
     "metadata": {},
     "output_type": "display_data"
    },
    {
     "name": "stdout",
     "output_type": "stream",
     "text": [
      "Label: 3\n",
      "torch.Size([63700, 784]) torch.Size([63700])\n"
     ]
    }
   ],
   "execution_count": 118
  },
  {
   "metadata": {
    "ExecuteTime": {
     "end_time": "2025-07-15T17:25:51.725894Z",
     "start_time": "2025-07-15T17:25:51.711467Z"
    }
   },
   "cell_type": "code",
   "source": [
    "class Scaling(nn.Module):\n",
    "    def __init__(self, input_tensor: torch.Tensor, bounds=(0.0, 255.0)):\n",
    "        super().__init__()\n",
    "\n",
    "        self.device = input_tensor.device\n",
    "        self.input_dtype = input_tensor.dtype\n",
    "\n",
    "        min_val = input_tensor.min()\n",
    "        max_val = input_tensor.max()\n",
    "\n",
    "        lower, upper = map(float, bounds)\n",
    "        delta_mm = max_val - min_val\n",
    "        delta_ul = upper - lower\n",
    "\n",
    "        a = delta_mm + delta_ul\n",
    "        b = lower * delta_mm + min_val * delta_ul\n",
    "        c = 2 * delta_mm * delta_ul\n",
    "\n",
    "        self.register_buffer(\"a\", a)\n",
    "        self.register_buffer(\"b\", b)\n",
    "        self.register_buffer(\"c\", c)\n",
    "\n",
    "    def forward(self, input_tensor: torch.Tensor):\n",
    "        if self.c == 0: return input_tensor\n",
    "        return (self.a * input_tensor - self.b) / self.c\n",
    "\n",
    "    @torch.no_grad()\n",
    "    def inverse(self, scaled_tensor: torch.Tensor):\n",
    "        if self.c == 0: return scaled_tensor\n",
    "        return (self.c * scaled_tensor + self.b) / self.a\n"
   ],
   "id": "96d7d38e7448051c",
   "outputs": [],
   "execution_count": 119
  },
  {
   "metadata": {
    "ExecuteTime": {
     "end_time": "2025-07-15T17:25:51.786718Z",
     "start_time": "2025-07-15T17:25:51.773096Z"
    }
   },
   "cell_type": "code",
   "source": [
    "class Classifier(nn.Module):\n",
    "    def __init__(self, categories: int):\n",
    "        super().__init__()\n",
    "        self.categories = categories\n",
    "\n",
    "    def forward(self, labels: torch.Tensor) -> torch.Tensor:\n",
    "        return F.one_hot(labels.view(-1), num_classes=self.categories).float()\n",
    "\n",
    "    @torch.no_grad()\n",
    "    def inverse(self, one_hot_tensor: torch.Tensor) -> torch.Tensor:\n",
    "        return one_hot_tensor.argmax(dim=1, keepdim=True)\n"
   ],
   "id": "e73ffe0aba248cc3",
   "outputs": [],
   "execution_count": 120
  },
  {
   "metadata": {
    "ExecuteTime": {
     "end_time": "2025-07-15T17:25:53.260341Z",
     "start_time": "2025-07-15T17:25:51.836592Z"
    }
   },
   "cell_type": "code",
   "source": [
    "for x, y in train_loader:\n",
    "    x = x.to(device, non_blocking=True)\n",
    "    y = y.to(device, non_blocking=True)\n",
    "\n",
    "    Display.image_Display(x[1])\n",
    "    print(\"Label:\", y[1].item())\n",
    "\n",
    "    bounds = (0.0, 255.0)\n",
    "    Scaling1 = Scaling(x, bounds)\n",
    "    Classifier1 = Classifier(10).to(device, non_blocking=True)\n",
    "\n",
    "    x = Scaling1(x)\n",
    "    y = Classifier1(y)\n",
    "    x_inverse = Scaling1.inverse(x)\n",
    "    y_declassified = Classifier1.inverse(y)\n",
    "    Display.image_Display(x_inverse[1])\n",
    "    print(\"Declassified label:\", y_declassified[1].item())\n",
    "\n",
    "    print(x.shape, y.shape)\n",
    "    break"
   ],
   "id": "8c6739e09e48f39f",
   "outputs": [
    {
     "data": {
      "text/plain": [
       "<PIL.Image.Image image mode=L size=28x28>"
      ],
      "image/png": "[encoded data removed]",
      "image/jpeg": "[encoded data removed]"
     },
     "metadata": {},
     "output_type": "display_data"
    },
    {
     "name": "stdout",
     "output_type": "stream",
     "text": [
      "Label: 7\n"
     ]
    },
    {
     "data": {
      "text/plain": [
       "<PIL.Image.Image image mode=L size=28x28>"
      ],
      "image/png": "[encoded data removed]",
      "image/jpeg": "[encoded data removed]"
     },
     "metadata": {},
     "output_type": "display_data"
    },
    {
     "name": "stdout",
     "output_type": "stream",
     "text": [
      "Declassified label: 7\n",
      "torch.Size([63700, 784]) torch.Size([63700, 10])\n"
     ]
    }
   ],
   "execution_count": 121
  },
  {
   "metadata": {
    "ExecuteTime": {
     "end_time": "2025-07-15T17:25:53.323161Z",
     "start_time": "2025-07-15T17:25:53.309044Z"
    }
   },
   "cell_type": "code",
   "source": [
    "class NN(nn.Module):\n",
    "    def __init__(self):\n",
    "        super().__init__()\n",
    "        self.layer_sizes = [784, 107, 26, 10]\n",
    "        self.net = nn.Sequential(\n",
    "            nn.Linear(self.layer_sizes[0], self.layer_sizes[1], bias=True),\n",
    "            nn.Sigmoid(),                       # fused activation\n",
    "            nn.Linear(self.layer_sizes[1], self.layer_sizes[2], bias=True),\n",
    "            nn.ReLU(inplace=True),              # in‑place\n",
    "            nn.Linear(self.layer_sizes[2], self.layer_sizes[3], bias=True),\n",
    "            nn.Softmax(dim=1)\n",
    "        )\n",
    "\n",
    "        nn.init.xavier_uniform_(self.net[0].weight)\n",
    "        nn.init.uniform_(self.net[0].bias, -1.0/math.sqrt(self.layer_sizes[0]), 1.0/math.sqrt(self.layer_sizes[0]))\n",
    "        nn.init.kaiming_normal_(self.net[2].weight, nonlinearity='relu')\n",
    "        nn.init.uniform_(self.net[2].bias, -1.0/math.sqrt(self.layer_sizes[1]), 1.0/math.sqrt(self.layer_sizes[1]))\n",
    "        nn.init.xavier_normal_(self.net[4].weight)\n",
    "        nn.init.uniform_(self.net[4].bias, -1.0/math.sqrt(self.layer_sizes[2]), 1.0/math.sqrt(self.layer_sizes[2]))\n",
    "\n",
    "        self.loss_fn = nn.CrossEntropyLoss()\n",
    "\n",
    "    def forward(self, x):\n",
    "        x = x.contiguous()\n",
    "        return self.net(x)"
   ],
   "id": "39468dbc014eee32",
   "outputs": [],
   "execution_count": 122
  },
  {
   "metadata": {
    "ExecuteTime": {
     "end_time": "2025-07-15T17:25:54.609715Z",
     "start_time": "2025-07-15T17:25:53.371304Z"
    }
   },
   "cell_type": "code",
   "source": [
    "for x, y in train_loader:\n",
    "    x = x.to(device, non_blocking=True)\n",
    "    y = y.to(device, non_blocking=True)\n",
    "\n",
    "    Display.image_Display(x[1])\n",
    "    print(\"Label:\", y[1].item())\n",
    "\n",
    "    bounds = (0.0, 255.0)\n",
    "    Scaling1 = Scaling(x, bounds)\n",
    "    Classifier1 = Classifier(10).to(device, non_blocking=True)\n",
    "    net = NN().to(device, non_blocking=True)\n",
    "\n",
    "    x_scaled = Scaling1(x)\n",
    "    y_encoded = Classifier1(y)\n",
    "\n",
    "    yHAT = net(x_scaled)\n",
    "    loss = net.loss_fn(yHAT, y)\n",
    "    print(\"CrossEntropy Loss:\", loss.item())\n",
    "\n",
    "    x_inverse = Scaling1.inverse(x_scaled)\n",
    "    y_declassified = Classifier1.inverse(y_encoded)\n",
    "    yHAT_declassified = Classifier1.inverse(yHAT)\n",
    "\n",
    "    Display.image_Display(x_inverse[1])\n",
    "    print(\"Actual:\", y_declassified[1].item())\n",
    "    print(\"Predicted:\", yHAT_declassified[1].item())\n",
    "\n",
    "    print(x_scaled.shape, y_encoded.shape, yHAT.shape)\n",
    "    break\n"
   ],
   "id": "7e5d49dc6cce7bb7",
   "outputs": [
    {
     "data": {
      "text/plain": [
       "<PIL.Image.Image image mode=L size=28x28>"
      ],
      "image/png": "[encoded data removed]",
      "image/jpeg": "[encoded data removed]"
     },
     "metadata": {},
     "output_type": "display_data"
    },
    {
     "name": "stdout",
     "output_type": "stream",
     "text": [
      "Label: 7\n",
      "CrossEntropy Loss: 2.3040101528167725\n"
     ]
    },
    {
     "data": {
      "text/plain": [
       "<PIL.Image.Image image mode=L size=28x28>"
      ],
      "image/png": "[encoded data removed]",
      "image/jpeg": "[encoded data removed]"
     },
     "metadata": {},
     "output_type": "display_data"
    },
    {
     "name": "stdout",
     "output_type": "stream",
     "text": [
      "Actual: 7\n",
      "Predicted: 9\n",
      "torch.Size([63700, 784]) torch.Size([63700, 10]) torch.Size([63700, 10])\n"
     ]
    }
   ],
   "execution_count": 123
  },
  {
   "metadata": {
    "ExecuteTime": {
     "end_time": "2025-07-15T17:25:54.672220Z",
     "start_time": "2025-07-15T17:25:54.657614Z"
    }
   },
   "cell_type": "code",
   "source": [
    "class UltraFastTrainer:\n",
    "    def __init__(\n",
    "        self,\n",
    "        model: nn.Module,\n",
    "        loss_fn: nn.Module,\n",
    "        optimizer_cls=torch.optim.Adam,\n",
    "        lr=1e-3,\n",
    "        max_epochs=50,\n",
    "        clip_grad_norm=1.0,\n",
    "        use_amp=True,\n",
    "        use_tqdm=False,\n",
    "        save_path=None\n",
    "    ):\n",
    "        self.model = model.to(device)\n",
    "        self.loss_fn = loss_fn\n",
    "        self.optimizer = optimizer_cls(model.parameters(), lr=lr)\n",
    "        self.max_epochs = max_epochs\n",
    "        self.clip_grad_norm = clip_grad_norm\n",
    "        self.use_amp = use_amp\n",
    "        self.save_path = save_path\n",
    "        self.use_tqdm = use_tqdm\n",
    "\n",
    "        self.scaler_amp = GradScaler(enabled=use_amp)\n",
    "        self.loss_history = []\n",
    "\n",
    "    def _prefetch_loader(self, loader):\n",
    "        for x, y in loader:\n",
    "            yield x.to(device, non_blocking=True), y.to(device, non_blocking=True)\n",
    "\n",
    "    def train(self, train_loader):\n",
    "        self.model.train()\n",
    "\n",
    "        x_sample, _ = next(iter(train_loader))\n",
    "        scaler = Scaling(x_sample.to(device))\n",
    "\n",
    "        for epoch in range(1, self.max_epochs + 1):\n",
    "            start = time.perf_counter()\n",
    "            total_loss = 0.0\n",
    "\n",
    "            iterable = self._prefetch_loader(train_loader)\n",
    "            if self.use_tqdm:\n",
    "                iterable = tqdm(iterable, desc=f\"Epoch {epoch}\", leave=False)\n",
    "\n",
    "            for x, y in iterable:\n",
    "                x = scaler(x)\n",
    "\n",
    "                self.optimizer.zero_grad(set_to_none=True)\n",
    "\n",
    "                with autocast(device_type=device.type, enabled=self.use_amp):\n",
    "                    y_pred = self.model(x)\n",
    "                    loss = self.loss_fn(y_pred, y)\n",
    "\n",
    "                self.scaler_amp.scale(loss).backward()\n",
    "\n",
    "                if self.clip_grad_norm:\n",
    "                    self.scaler_amp.unscale_(self.optimizer)\n",
    "                    nn.utils.clip_grad_norm_(self.model.parameters(), self.clip_grad_norm)\n",
    "\n",
    "                self.scaler_amp.step(self.optimizer)\n",
    "                self.scaler_amp.update()\n",
    "\n",
    "                total_loss += loss.item()\n",
    "\n",
    "            avg_loss = total_loss / len(train_loader)\n",
    "            self.loss_history.append(avg_loss)\n",
    "\n",
    "            elapsed = time.perf_counter() - start\n",
    "            print(f\"Epoch {epoch:03d} | Loss: {avg_loss:.4f} | Time: {elapsed:.2f}s\")\n",
    "\n",
    "        if self.save_path:\n",
    "            torch.save(self.model.state_dict(), self.save_path)\n",
    "\n",
    "    def evaluate(self, test_loader):\n",
    "        self.model.eval()\n",
    "        correct, total = 0, 0\n",
    "\n",
    "        scaler = Scaling(next(iter(test_loader))[0].to(device))\n",
    "\n",
    "        with torch.no_grad():\n",
    "            for x, y in self._prefetch_loader(test_loader):\n",
    "                x = scaler(x)\n",
    "                pred = self.model(x).argmax(dim=1)\n",
    "                correct += (pred == y.view(-1)).sum().item()\n",
    "                total += y.size(0)\n",
    "\n",
    "        acc = correct / total\n",
    "        print(f\"Test Accuracy: {acc*100:.2f}%\")\n",
    "        return acc\n",
    "\n",
    "    def plot_loss(self):\n",
    "        plt.plot(self.loss_history)\n",
    "        plt.title(\"Loss Curve\")\n",
    "        plt.xlabel(\"Epoch\")\n",
    "        plt.ylabel(\"Loss\")\n",
    "        plt.grid(True)\n",
    "        plt.tight_layout()\n",
    "        plt.show()\n"
   ],
   "id": "40fdf6e3b4ca6f8c",
   "outputs": [],
   "execution_count": 124
  },
  {
   "metadata": {
    "ExecuteTime": {
     "end_time": "2025-07-15T17:28:10.646670Z",
     "start_time": "2025-07-15T17:25:54.720525Z"
    }
   },
   "cell_type": "code",
   "source": [
    "model = NN()\n",
    "trainer = UltraFastTrainer(model, nn.CrossEntropyLoss(), max_epochs=100, use_amp=True)\n",
    "\n",
    "trainer.train(train_loader)\n",
    "trainer.evaluate(test_loader)\n",
    "trainer.plot_loss()\n"
   ],
   "id": "42e64e84209dd5b4",
   "outputs": [
    {
     "name": "stdout",
     "output_type": "stream",
     "text": [
      "Epoch 001 | Loss: 2.3020 | Time: 1.57s\n",
      "Epoch 002 | Loss: 2.2967 | Time: 1.32s\n",
      "Epoch 003 | Loss: 2.2911 | Time: 1.30s\n",
      "Epoch 004 | Loss: 2.2854 | Time: 1.16s\n",
      "Epoch 005 | Loss: 2.2795 | Time: 1.36s\n",
      "Epoch 006 | Loss: 2.2733 | Time: 1.55s\n",
      "Epoch 007 | Loss: 2.2669 | Time: 1.38s\n",
      "Epoch 008 | Loss: 2.2604 | Time: 1.18s\n",
      "Epoch 009 | Loss: 2.2536 | Time: 1.37s\n",
      "Epoch 010 | Loss: 2.2468 | Time: 1.36s\n",
      "Epoch 011 | Loss: 2.2400 | Time: 1.62s\n",
      "Epoch 012 | Loss: 2.2333 | Time: 1.40s\n",
      "Epoch 013 | Loss: 2.2267 | Time: 1.51s\n",
      "Epoch 014 | Loss: 2.2203 | Time: 1.39s\n",
      "Epoch 015 | Loss: 2.2139 | Time: 1.13s\n",
      "Epoch 016 | Loss: 2.2077 | Time: 1.26s\n",
      "Epoch 017 | Loss: 2.2016 | Time: 1.12s\n",
      "Epoch 018 | Loss: 2.1955 | Time: 1.27s\n",
      "Epoch 019 | Loss: 2.1893 | Time: 1.23s\n",
      "Epoch 020 | Loss: 2.1832 | Time: 1.25s\n",
      "Epoch 021 | Loss: 2.1771 | Time: 1.26s\n",
      "Epoch 022 | Loss: 2.1709 | Time: 1.29s\n",
      "Epoch 023 | Loss: 2.1646 | Time: 1.14s\n",
      "Epoch 024 | Loss: 2.1583 | Time: 1.29s\n",
      "Epoch 025 | Loss: 2.1520 | Time: 1.28s\n",
      "Epoch 026 | Loss: 2.1455 | Time: 1.30s\n",
      "Epoch 027 | Loss: 2.1390 | Time: 1.31s\n",
      "Epoch 028 | Loss: 2.1323 | Time: 1.13s\n",
      "Epoch 029 | Loss: 2.1255 | Time: 1.30s\n",
      "Epoch 030 | Loss: 2.1187 | Time: 1.11s\n",
      "Epoch 031 | Loss: 2.1117 | Time: 1.29s\n",
      "Epoch 032 | Loss: 2.1046 | Time: 1.27s\n",
      "Epoch 033 | Loss: 2.0976 | Time: 1.31s\n",
      "Epoch 034 | Loss: 2.0905 | Time: 1.12s\n",
      "Epoch 035 | Loss: 2.0835 | Time: 1.14s\n",
      "Epoch 036 | Loss: 2.0765 | Time: 1.46s\n",
      "Epoch 037 | Loss: 2.0697 | Time: 1.35s\n",
      "Epoch 038 | Loss: 2.0630 | Time: 1.32s\n",
      "Epoch 039 | Loss: 2.0565 | Time: 1.50s\n",
      "Epoch 040 | Loss: 2.0502 | Time: 1.36s\n",
      "Epoch 041 | Loss: 2.0440 | Time: 1.20s\n",
      "Epoch 042 | Loss: 2.0379 | Time: 1.44s\n",
      "Epoch 043 | Loss: 2.0320 | Time: 1.32s\n",
      "Epoch 044 | Loss: 2.0263 | Time: 1.31s\n",
      "Epoch 045 | Loss: 2.0208 | Time: 1.17s\n",
      "Epoch 046 | Loss: 2.0154 | Time: 1.29s\n",
      "Epoch 047 | Loss: 2.0103 | Time: 1.37s\n",
      "Epoch 048 | Loss: 2.0053 | Time: 1.46s\n",
      "Epoch 049 | Loss: 2.0005 | Time: 1.60s\n",
      "Epoch 050 | Loss: 1.9957 | Time: 1.52s\n",
      "Epoch 051 | Loss: 1.9910 | Time: 1.79s\n",
      "Epoch 052 | Loss: 1.9864 | Time: 1.14s\n",
      "Epoch 053 | Loss: 1.9819 | Time: 1.44s\n",
      "Epoch 054 | Loss: 1.9775 | Time: 1.41s\n",
      "Epoch 055 | Loss: 1.9731 | Time: 1.31s\n",
      "Epoch 056 | Loss: 1.9688 | Time: 1.40s\n",
      "Epoch 057 | Loss: 1.9644 | Time: 1.75s\n",
      "Epoch 058 | Loss: 1.9600 | Time: 1.73s\n",
      "Epoch 059 | Loss: 1.9556 | Time: 1.30s\n",
      "Epoch 060 | Loss: 1.9510 | Time: 1.10s\n",
      "Epoch 061 | Loss: 1.9463 | Time: 1.54s\n",
      "Epoch 062 | Loss: 1.9414 | Time: 1.33s\n",
      "Epoch 063 | Loss: 1.9362 | Time: 1.16s\n",
      "Epoch 064 | Loss: 1.9309 | Time: 1.20s\n",
      "Epoch 065 | Loss: 1.9252 | Time: 1.32s\n",
      "Epoch 066 | Loss: 1.9195 | Time: 1.47s\n",
      "Epoch 067 | Loss: 1.9137 | Time: 1.28s\n",
      "Epoch 068 | Loss: 1.9080 | Time: 1.47s\n",
      "Epoch 069 | Loss: 1.9027 | Time: 1.40s\n",
      "Epoch 070 | Loss: 1.8978 | Time: 1.34s\n",
      "Epoch 071 | Loss: 1.8933 | Time: 1.34s\n",
      "Epoch 072 | Loss: 1.8890 | Time: 1.27s\n",
      "Epoch 073 | Loss: 1.8849 | Time: 1.28s\n",
      "Epoch 074 | Loss: 1.8807 | Time: 1.13s\n",
      "Epoch 075 | Loss: 1.8766 | Time: 1.27s\n",
      "Epoch 076 | Loss: 1.8725 | Time: 1.41s\n",
      "Epoch 077 | Loss: 1.8686 | Time: 1.13s\n",
      "Epoch 078 | Loss: 1.8651 | Time: 1.26s\n",
      "Epoch 079 | Loss: 1.8618 | Time: 1.28s\n",
      "Epoch 080 | Loss: 1.8587 | Time: 1.11s\n",
      "Epoch 081 | Loss: 1.8559 | Time: 1.44s\n",
      "Epoch 082 | Loss: 1.8532 | Time: 1.12s\n",
      "Epoch 083 | Loss: 1.8506 | Time: 1.17s\n",
      "Epoch 084 | Loss: 1.8480 | Time: 1.28s\n",
      "Epoch 085 | Loss: 1.8455 | Time: 1.27s\n",
      "Epoch 086 | Loss: 1.8431 | Time: 1.42s\n",
      "Epoch 087 | Loss: 1.8408 | Time: 1.74s\n",
      "Epoch 088 | Loss: 1.8386 | Time: 1.48s\n",
      "Epoch 089 | Loss: 1.8364 | Time: 1.75s\n",
      "Epoch 090 | Loss: 1.8343 | Time: 1.60s\n",
      "Epoch 091 | Loss: 1.8322 | Time: 2.01s\n",
      "Epoch 092 | Loss: 1.8302 | Time: 1.41s\n",
      "Epoch 093 | Loss: 1.8282 | Time: 1.31s\n",
      "Epoch 094 | Loss: 1.8262 | Time: 1.30s\n",
      "Epoch 095 | Loss: 1.8242 | Time: 1.36s\n",
      "Epoch 096 | Loss: 1.8222 | Time: 1.35s\n",
      "Epoch 097 | Loss: 1.8202 | Time: 1.38s\n",
      "Epoch 098 | Loss: 1.8181 | Time: 1.24s\n",
      "Epoch 099 | Loss: 1.8160 | Time: 1.40s\n",
      "Epoch 100 | Loss: 1.8139 | Time: 1.12s\n",
      "Test Accuracy: 68.90%\n"
     ]
    },
    {
     "data": {
      "text/plain": [
       "<Figure size 640x480 with 1 Axes>"
      ],
      "image/png": "[encoded data removed]"
     },
     "metadata": {},
     "output_type": "display_data"
    }
   ],
   "execution_count": 125
  }
 ],
 "metadata": {
  "kernelspec": {
   "display_name": "Python [conda env:base] *",
   "language": "python",
   "name": "conda-base-py"
  },
  "language_info": {
   "codemirror_mode": {
    "name": "ipython",
    "version": 2
   },
   "file_extension": ".py",
   "mimetype": "text/x-python",
   "name": "python",
   "nbconvert_exporter": "python",
   "pygments_lexer": "ipython2",
   "version": "2.7.6"
  }
 },
 "nbformat": 4,
 "nbformat_minor": 5
}
