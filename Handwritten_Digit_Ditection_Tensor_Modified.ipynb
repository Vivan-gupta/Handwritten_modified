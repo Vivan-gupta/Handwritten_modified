{
 "cells": [
  {
   "metadata": {
    "ExecuteTime": {
     "end_time": "2025-07-15T17:25:38.886344Z",
     "start_time": "2025-07-15T17:25:38.869164Z"
    }
   },
   "cell_type": "code",
   "source": [
    "import pandas as pd\n",
    "import torch\n",
    "import torch.nn as nn\n",
    "import torch.nn.functional as F\n",
    "from sklearn.model_selection import train_test_split\n",
    "from PIL import Image\n",
    "from IPython.display import display\n",
    "import matplotlib.pyplot as plt"
   ],
   "id": "124b988c16fa8082",
   "outputs": [],
   "execution_count": 42
  },
  {
   "metadata": {
    "ExecuteTime": {
     "end_time": "2025-07-15T17:25:38.932652Z",
     "start_time": "2025-07-15T17:25:38.920082Z"
    }
   },
   "cell_type": "code",
   "source": [
    "device = torch.device(\"cuda\" if torch.cuda.is_available() else \"cpu\")\n",
    "print(device)"
   ],
   "id": "3c2a225e1b079eae",
   "outputs": [
    {
     "name": "stdout",
     "output_type": "stream",
     "text": [
      "cuda\n"
     ]
    }
   ],
   "execution_count": 43
  },
  {
   "cell_type": "code",
   "id": "initial_id",
   "metadata": {
    "collapsed": true,
    "ExecuteTime": {
     "end_time": "2025-07-15T17:25:42.017476Z",
     "start_time": "2025-07-15T17:25:38.981201Z"
    }
   },
   "source": [
    "# Optimization: predefine dtypes to speed up CSV read and reduce memory usage\n",
    "dtype_map = {'label': 'int64'} | {str(i): 'uint8' for i in range(1, 785)}\n",
    "df = pd.read_csv(\"Dataset//mnist_dataset.csv\", dtype=dtype_map)\n",
    "\n",
    "# Extract tensors directly from DataFrame\n",
    "labels = torch.from_numpy(df['label'].values).to(torch.long)\n",
    "pixels = torch.from_numpy(df.iloc[:, 1:].values).to(torch.float32)  # normalize in-place\n",
    "\n",
    "# Optimization: train-test split using numpy, minimal conversion\n",
    "indices = torch.arange(len(labels))\n",
    "train_idx, test_idx = train_test_split(indices.numpy(), test_size=0.09, shuffle=True)\n",
    "\n",
    "# Push to GPU during indexing to avoid data duplication\n",
    "input_train = pixels[train_idx].to(device, non_blocking=True)\n",
    "output_train = labels[train_idx].to(device, non_blocking=True)\n",
    "input_test = pixels[test_idx].to(device, non_blocking=True)\n",
    "output_test = labels[test_idx].to(device, non_blocking=True)\n",
    "\n",
    "# Output dimensions (debug)\n",
    "print(\"Train X:\", input_train.shape)\n",
    "print(\"Train Y:\", output_train.shape)\n",
    "print(\"Test X:\", input_test.shape)\n",
    "print(\"Test Y:\", output_test.shape)\n"
   ],
   "outputs": [
    {
     "name": "stdout",
     "output_type": "stream",
     "text": [
      "Train X: torch.Size([63700, 784])\n",
      "Train Y: torch.Size([63700])\n",
      "Test X: torch.Size([6300, 784])\n",
      "Test Y: torch.Size([6300])\n"
     ]
    }
   ],
   "execution_count": 44
  },
  {
   "metadata": {
    "ExecuteTime": {
     "end_time": "2025-07-15T17:25:42.093823Z",
     "start_time": "2025-07-15T17:25:42.080726Z"
    }
   },
   "cell_type": "code",
   "source": [
    "class LayerBlock(nn.Module):\n",
    "    def __init__(self, input_size, output_size, activation='relu'):\n",
    "        super().__init__()\n",
    "        self.linear = nn.Linear(input_size, output_size, bias=True)\n",
    "        self.activation_name = activation.lower()\n",
    "\n",
    "    def forward(self, x):\n",
    "        z = self.linear(x)\n",
    "\n",
    "        if self.activation_name == 'relu':\n",
    "            return F.relu(z)\n",
    "        elif self.activation_name == 'sigmoid':\n",
    "            return torch.sigmoid(z)\n",
    "        elif self.activation_name == 'softmax':\n",
    "            return F.softmax(z, dim=1)\n",
    "        else:\n",
    "            return z  # Linear activation\n"
   ],
   "id": "c51053aad8980b6e",
   "outputs": [],
   "execution_count": 45
  },
  {
   "metadata": {
    "ExecuteTime": {
     "end_time": "2025-07-15T17:25:42.173704Z",
     "start_time": "2025-07-15T17:25:42.160927Z"
    }
   },
   "cell_type": "code",
   "source": [
    "class NNModel(nn.Module):\n",
    "    def __init__(self, layer_sizes):\n",
    "        super().__init__()\n",
    "        self.layers = nn.ModuleList()\n",
    "        self.layer_sizes = layer_sizes\n",
    "\n",
    "        # Add layers\n",
    "        for i in range(len(layer_sizes) - 1):\n",
    "            activation = 'relu'\n",
    "            if i == 0:\n",
    "                activation = 'sigmoid'\n",
    "            if i == len(layer_sizes) - 2:\n",
    "                activation = 'softmax'\n",
    "            self.layers.append(LayerBlock(layer_sizes[i], layer_sizes[i + 1], activation))\n",
    "\n",
    "    def forward(self, x):\n",
    "        for layer in self.layers:\n",
    "            x = layer(x)\n",
    "        return x\n"
   ],
   "id": "8b04c5f2f482069",
   "outputs": [],
   "execution_count": 46
  },
  {
   "metadata": {
    "ExecuteTime": {
     "end_time": "2025-07-15T17:25:42.252715Z",
     "start_time": "2025-07-15T17:25:42.239102Z"
    }
   },
   "cell_type": "code",
   "source": [
    "model = NNModel([784, 107, 26, 10]).to(device)\n",
    "criterion = nn.CrossEntropyLoss()\n",
    "optimizer = torch.optim.Adam(model.parameters(), lr=0.001)\n",
    "\n",
    "# Example training step\n",
    "def train_one_epoch(model, optimizer, criterion, x, y):\n",
    "    model.train()\n",
    "    optimizer.zero_grad()\n",
    "    output = model(x)\n",
    "    loss = criterion(output, y)\n",
    "    loss.backward()\n",
    "    optimizer.step()\n",
    "    return loss.item()\n"
   ],
   "id": "9bbcda76f8c3e5d2",
   "outputs": [],
   "execution_count": 47
  },
  {
   "metadata": {
    "ExecuteTime": {
     "end_time": "2025-07-15T17:25:42.314568Z",
     "start_time": "2025-07-15T17:25:42.300908Z"
    }
   },
   "cell_type": "code",
   "source": [
    "@torch.no_grad()\n",
    "def evaluate(model, x, y):\n",
    "    model.eval()\n",
    "    preds = model(x).argmax(dim=1)\n",
    "    accuracy = (preds == y).float().mean().item()\n",
    "    return accuracy\n"
   ],
   "id": "af94ce2a772eabb4",
   "outputs": [],
   "execution_count": 48
  },
  {
   "metadata": {
    "ExecuteTime": {
     "end_time": "2025-07-15T17:25:42.375747Z",
     "start_time": "2025-07-15T17:25:42.361282Z"
    }
   },
   "cell_type": "code",
   "source": [
    "import matplotlib.pyplot as plt\n",
    "\n",
    "class Trainer:\n",
    "    def __init__(self, model, optimizer, loss_fn, max_epochs=50):\n",
    "        self.model = model\n",
    "        self.optimizer = optimizer\n",
    "        self.loss_fn = loss_fn\n",
    "        self.max_epochs = max_epochs\n",
    "        self.loss_history = []\n",
    "\n",
    "    def train(self, x_train, y_train):\n",
    "        x_train = x_train.to(device)\n",
    "        y_train = y_train.to(device)\n",
    "\n",
    "        for epoch in range(self.max_epochs):\n",
    "            self.model.train()\n",
    "            self.optimizer.zero_grad()\n",
    "\n",
    "            logits = self.model(x_train)\n",
    "            loss = self.loss_fn(logits, y_train)\n",
    "\n",
    "            loss.backward()\n",
    "            self.optimizer.step()\n",
    "\n",
    "            self.loss_history.append(loss.item())\n",
    "\n",
    "            if epoch % 5 == 0 or epoch == self.max_epochs - 1:\n",
    "                print(f\"Epoch {epoch+1}/{self.max_epochs} - Loss: {loss.item():.4f}\")\n",
    "\n",
    "    def plot_loss(self):\n",
    "        plt.plot(self.loss_history)\n",
    "        plt.grid(True)\n",
    "        plt.title(\"Training Loss\")\n",
    "        plt.xlabel(\"Epoch\")\n",
    "        plt.ylabel(\"Loss\")\n",
    "        plt.show()\n"
   ],
   "id": "d952794d3eb1e5db",
   "outputs": [],
   "execution_count": 49
  },
  {
   "metadata": {
    "ExecuteTime": {
     "end_time": "2025-07-15T17:25:42.437384Z",
     "start_time": "2025-07-15T17:25:42.422798Z"
    }
   },
   "cell_type": "code",
   "source": [
    "@torch.no_grad()\n",
    "def evaluate(model, x, y):\n",
    "    model.eval()\n",
    "    x, y = x.to(device), y.to(device)\n",
    "    pred = model(x).argmax(dim=1)\n",
    "    acc = (pred == y).float().mean().item()\n",
    "    print(f\"Accuracy: {acc*100:.2f}%\")\n",
    "    return acc\n"
   ],
   "id": "46901d9c02924e46",
   "outputs": [],
   "execution_count": 50
  },
  {
   "metadata": {
    "ExecuteTime": {
     "end_time": "2025-07-15T17:25:44.102420Z",
     "start_time": "2025-07-15T17:25:42.484586Z"
    }
   },
   "cell_type": "code",
   "source": [
    "# Build model\n",
    "model = NNModel([784, 107, 26, 10]).to(device)\n",
    "loss_fn = nn.CrossEntropyLoss()\n",
    "optimizer = torch.optim.Adam(model.parameters(), lr=1e-3)\n",
    "\n",
    "# Train\n",
    "trainer = Trainer(model, optimizer, loss_fn, max_epochs=100)\n",
    "trainer.train(input_train, output_train)\n",
    "trainer.plot_loss()\n",
    "\n",
    "# Evaluate\n",
    "evaluate(model, input_test, output_test)\n"
   ],
   "id": "75f18e4e5c44d0ea",
   "outputs": [
    {
     "name": "stdout",
     "output_type": "stream",
     "text": [
      "Epoch 1/100 - Loss: 2.3035\n",
      "Epoch 6/100 - Loss: 2.2609\n",
      "Epoch 11/100 - Loss: 2.2223\n",
      "Epoch 16/100 - Loss: 2.1808\n",
      "Epoch 21/100 - Loss: 2.1360\n",
      "Epoch 26/100 - Loss: 2.0884\n",
      "Epoch 31/100 - Loss: 2.0388\n",
      "Epoch 36/100 - Loss: 1.9890\n",
      "Epoch 41/100 - Loss: 1.9406\n",
      "Epoch 46/100 - Loss: 1.8948\n",
      "Epoch 51/100 - Loss: 1.8514\n",
      "Epoch 56/100 - Loss: 1.8091\n",
      "Epoch 61/100 - Loss: 1.7676\n",
      "Epoch 66/100 - Loss: 1.7284\n",
      "Epoch 71/100 - Loss: 1.6945\n",
      "Epoch 76/100 - Loss: 1.6660\n",
      "Epoch 81/100 - Loss: 1.6430\n",
      "Epoch 86/100 - Loss: 1.6248\n",
      "Epoch 91/100 - Loss: 1.6104\n",
      "Epoch 96/100 - Loss: 1.5986\n",
      "Epoch 100/100 - Loss: 1.5909\n"
     ]
    },
    {
     "data": {
      "text/plain": [
       "<Figure size 640x480 with 1 Axes>"
      ],
      "image/png": "[encoded data removed]"
     },
     "metadata": {},
     "output_type": "display_data"
    },
    {
     "name": "stdout",
     "output_type": "stream",
     "text": [
      "Accuracy: 90.63%\n"
     ]
    },
    {
     "data": {
      "text/plain": [
       "0.9063491821289062"
      ]
     },
     "execution_count": 51,
     "metadata": {},
     "output_type": "execute_result"
    }
   ],
   "execution_count": 51
  }
 ],
 "metadata": {
  "kernelspec": {
   "display_name": "Python 3",
   "language": "python",
   "name": "python3"
  },
  "language_info": {
   "codemirror_mode": {
    "name": "ipython",
    "version": 2
   },
   "file_extension": ".py",
   "mimetype": "text/x-python",
   "name": "python",
   "nbconvert_exporter": "python",
   "pygments_lexer": "ipython2",
   "version": "2.7.6"
  }
 },
 "nbformat": 4,
 "nbformat_minor": 5
}
